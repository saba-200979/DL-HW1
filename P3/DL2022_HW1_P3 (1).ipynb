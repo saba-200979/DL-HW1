{
  "cells": [
    {
      "cell_type": "markdown",
      "metadata": {
        "id": "BzdiZzPsvD8u"
      },
      "source": [
        "# Deep Learning"
      ]
    },
    {
      "cell_type": "markdown",
      "metadata": {
        "id": "kY4Bbjc0vD8x"
      },
      "source": [
        "## HW1- Problem 3 - Regression (100 pts)"
      ]
    },
    {
      "cell_type": "markdown",
      "metadata": {
        "id": "25XWV4-DvD8x"
      },
      "source": [
        "### Please fill this part\n",
        "\n",
        "\n",
        "1.   Full Name: Saba Nasiri\n",
        "2.   Student Number: 98101052\n",
        "\n",
        "\n",
        "*You are just allowded to change those parts that start with \"TO DO\". Please do not change other parts.*\n",
        "\n",
        "*It is highly recommended to read each codeline carefully and try to understand what it exactly does. Best of luck and have fun!*"
      ]
    },
    {
      "cell_type": "code",
      "execution_count": 1,
      "metadata": {
        "id": "35W8hUrjvD8y"
      },
      "outputs": [],
      "source": [
        "# You are not allowed to import other packages.\n",
        "\n",
        "import numpy as np\n",
        "import pandas as pd\n",
        "\n",
        "from matplotlib import pyplot as plt\n",
        "from sklearn.metrics import mean_squared_error"
      ]
    },
    {
      "cell_type": "markdown",
      "metadata": {
        "id": "8WACdRO3vD8z"
      },
      "source": [
        "### Part1:\n",
        "Consider the dataset which has been given to you. Split the dataset into the `training dataset` and `test dataset`. You can use `80%` of the data for training and the rest for testing."
      ]
    },
    {
      "cell_type": "code",
      "execution_count": 2,
      "metadata": {
        "id": "QzDi1ZlZvD8z"
      },
      "outputs": [],
      "source": [
        "dataset = pd.read_csv(\"https://raw.githubusercontent.com/saba-200979/DL-HW1/main/P3/data01.csv\")\n",
        "dataset\n",
        "# implement the split part\n",
        "# name them: x_train, x_test, y_train, y_test\n",
        "\n",
        "x_train = dataset[:int(len(dataset)*0.8)]['X']\n",
        "y_train = dataset[:int(len(dataset)*0.8)]['Y']\n",
        "\n",
        "x_test = dataset[int(len(dataset)*0.8):]['X']\n",
        "y_test = dataset[int(len(dataset)*0.8):]['Y']\n"
      ]
    },
    {
      "cell_type": "markdown",
      "metadata": {
        "id": "S0uIvWVXvD8z"
      },
      "source": [
        "### Part2:\n",
        "Assume there is simple linear relationship between X and Y. Train a simple `Linear Regression` on the training dataset and report its accuracy on the training and testing dataset, separately."
      ]
    },
    {
      "cell_type": "code",
      "execution_count": 3,
      "metadata": {
        "colab": {
          "base_uri": "https://localhost:8080/"
        },
        "id": "vdE61pjQvD80",
        "outputId": "db3de21c-7647-4ee3-dba7-b2fd22dac356"
      },
      "outputs": [
        {
          "output_type": "execute_result",
          "data": {
            "text/plain": [
              "array([-1.02641738,  0.81500634])"
            ]
          },
          "metadata": {},
          "execution_count": 3
        }
      ],
      "source": [
        "# here you can implement via sgd or use least square solution. we suggest the second one inv(A^T A) * A^T y.\n",
        "# consider m as the returned line --> m[0] = the slope , m[1] = y intercept, also don't forget to use numpy for calculating m.\n",
        "x1=np.array(x_train)\n",
        "x1=np.reshape(x1,(-1,1))\n",
        "x2=np.ones(len(x1))\n",
        "x2=np.reshape(x2,(-1,1))\n",
        "A=np.concatenate((x1, x2), axis=1)\n",
        "a=np.dot(np.linalg.inv(np.dot(A.T,A)),A.T)\n",
        "m=np.dot(a,y_train)\n",
        "m\n"
      ]
    },
    {
      "cell_type": "code",
      "execution_count": 4,
      "metadata": {
        "colab": {
          "base_uri": "https://localhost:8080/"
        },
        "id": "i0FiT4KRvD81",
        "outputId": "d2848bfe-28cb-4a15-9723-57d9f8c3f002"
      },
      "outputs": [
        {
          "output_type": "stream",
          "name": "stdout",
          "text": [
            "MSE train error: 0.32467763017774226\n",
            "MSE test error: 0.3544951192130029\n"
          ]
        }
      ],
      "source": [
        "predicted_train_y = m[0] * x_train + m[1]\n",
        "predicted_test_y = m[0] * x_test + m[1]\n",
        "\n",
        "train_error =mean_squared_error(y_train,predicted_train_y) \n",
        "test_error = mean_squared_error(y_test,predicted_test_y)\n",
        "\n",
        "print(f\"MSE train error: {train_error}\\nMSE test error: {test_error}\")"
      ]
    },
    {
      "cell_type": "markdown",
      "metadata": {
        "id": "2xn2dsVIvD81"
      },
      "source": [
        "### Part3:\n",
        "Draw the line you've found in the last part, on train and test points (each separately)."
      ]
    },
    {
      "cell_type": "code",
      "execution_count": 5,
      "metadata": {
        "colab": {
          "base_uri": "https://localhost:8080/",
          "height": 299
        },
        "id": "3UzFkzH8vD82",
        "outputId": "33337747-11c7-4974-891c-5c1bc05e2195"
      },
      "outputs": [
        {
          "output_type": "execute_result",
          "data": {
            "text/plain": [
              "Text(0.5, 1.0, 'Train dataset')"
            ]
          },
          "metadata": {},
          "execution_count": 5
        },
        {
          "output_type": "display_data",
          "data": {
            "text/plain": [
              "<Figure size 432x288 with 1 Axes>"
            ],
            "image/png": "[encoded data removed]"
          },
          "metadata": {
            "needs_background": "light"
          }
        }
      ],
      "source": [
        "plt.scatter(x_train, y_train)\n",
        "plt.scatter(x_train, m[0]*x_train + m[1], s=1)\n",
        "plt.title(\"Train dataset\")"
      ]
    },
    {
      "cell_type": "code",
      "execution_count": 6,
      "metadata": {
        "colab": {
          "base_uri": "https://localhost:8080/",
          "height": 299
        },
        "id": "vPjhEcGrvD82",
        "outputId": "600f1009-ab92-4024-9cc9-383df93405fb"
      },
      "outputs": [
        {
          "output_type": "execute_result",
          "data": {
            "text/plain": [
              "Text(0.5, 1.0, 'Test dataset')"
            ]
          },
          "metadata": {},
          "execution_count": 6
        },
        {
          "output_type": "display_data",
          "data": {
            "text/plain": [
              "<Figure size 432x288 with 1 Axes>"
            ],
            "image/png": "[encoded data removed]"
          },
          "metadata": {
            "needs_background": "light"
          }
        }
      ],
      "source": [
        "plt.scatter(x_test, y_test)\n",
        "plt.scatter(x_test, m[0]*x_test + m[1], s=1)\n",
        "plt.title(\"Test dataset\")"
      ]
    },
    {
      "cell_type": "markdown",
      "metadata": {
        "id": "0ASa_2gYvD83"
      },
      "source": [
        "### Part4:\n",
        "Were the reported accuracies acceptable?\n",
        "\n",
        "What about the line you drew in the last part?\n",
        "\n",
        "Was it appropriate for the dataset?\n",
        "<br><br/>\n",
        "Explain what are the main problems here.\n"
      ]
    },
    {
      "cell_type": "markdown",
      "metadata": {
        "id": "L4KwpqHKvD83"
      },
      "source": [
        "Were the reported accuracies acceptable?\n",
        "\n",
        "No,the accuracy is too low for this dataset.the output is between -2.5 and 1.5 and MSE is almost 0.3 which is too much for this data range.\n",
        "\n",
        "What about the line you drew in the last part?\n",
        "\n",
        "The line can not fit the data very well.\n",
        "\n",
        "Was it appropriate for the dataset?\n",
        "\n",
        "No,it's not appropriate.\n",
        "\n",
        "Explain what are the main problems here.\n",
        "\n",
        " the relation between x and y is non linear, but we're trying to estimate the relation with a linear function, which will make a huge error and very little accuracy.Also, the varience of the dataset is too much, which make the MSE of the linear approximation too high."
      ]
    },
    {
      "cell_type": "markdown",
      "metadata": {
        "id": "Xipvoi_6vD83"
      },
      "source": [
        "### Part5:\n",
        "Now, consider the `Locally Weighted Linear Regression` approach for this problem. Do expect it performs better than simple `Linear Regression` for this dataset?"
      ]
    },
    {
      "cell_type": "markdown",
      "metadata": {
        "id": "V5gaCsicvD83"
      },
      "source": [
        "Yes, locally Weighted Linear Regression will approximate the dataset with a piecewise linear function and this help us to fit x,y better in different rigions of the data.\n",
        "\n",
        "In Locally weighted linear regression, we give the model the x where we want to make the prediction, then the model gives all the x(i) 's around that x a higher weight close to one, and the rest of x(i) 's get a lower weight close to zero and then tries to fit a straight line to that weighted x(i) 's data."
      ]
    },
    {
      "cell_type": "markdown",
      "metadata": {
        "id": "hRfgGNlyvD84"
      },
      "source": [
        "### Part6:\n",
        "Here, we want to implement the `suggested model`. You can implement any weight function you want, the below implementation is just a sample:\n",
        "<br><br/>\n",
        "\\begin{equation*}\n",
        "    w^{(i)}=exp\\left(-\\frac{(\\mathbf x^{(i)}-\\mathbf x)^\\top(\\mathbf x^{(i)}-\\mathbf x)}{2\\tau^2}\\right)\n",
        "\\end{equation*}"
      ]
    },
    {
      "cell_type": "code",
      "execution_count": 7,
      "metadata": {
        "id": "ESWL0gf3vD84"
      },
      "outputs": [],
      "source": [
        "def get_weight_matrix(the_query_point, train_dataset, hyperparameter):\n",
        "  l = train_dataset.shape[0]\n",
        "  W = np.mat(np.eye(l))\n",
        "  #print(W.shape)\n",
        "  for i, xi in enumerate(train_dataset):\n",
        "    W[i, i] = np.exp(-np.dot((xi-the_query_point),(xi-the_query_point).T)/(2*hyperparameter*hyperparameter))\n",
        "  return W\n",
        " \n"
      ]
    },
    {
      "cell_type": "markdown",
      "metadata": {
        "id": "aMkS58CXvD84"
      },
      "source": [
        "Now implement the `closed form solution` based on the following formula:\n",
        "<br><br/>\n",
        "\\begin{equation*}\n",
        "    \\boldsymbol\\theta=(X^\\top WX)^{-1}(X^\\top WY)\n",
        "\\end{equation*}\n",
        "<br><br/>\n",
        "Of course if you use another form, implement your own."
      ]
    },
    {
      "cell_type": "code",
      "execution_count": 8,
      "metadata": {
        "id": "HqJcO1oSvD84"
      },
      "outputs": [],
      "source": [
        "def predict(train_X, train_Y, query_x, hyperparameter):\n",
        "    l = train_X.shape[0]\n",
        "    x3=np.array(train_X)\n",
        "    x4=np.reshape(x3,(-1,1))\n",
        "    X = np.concatenate((x4, np.ones((l,1))),axis=1)\n",
        "    qx = np.mat([query_x, 1])\n",
        "    W = get_weight_matrix(qx, X, hyperparameter)\n",
        "    a=np.dot(X.T,W)\n",
        "    b=np.linalg.inv(np.dot(a,X))\n",
        "    d=np.dot(a,train_Y).T\n",
        "    theta = np.dot(b,d)\n",
        "    return np.dot(qx, theta)\n"
      ]
    },
    {
      "cell_type": "markdown",
      "metadata": {
        "id": "sCTIyYCbvD84"
      },
      "source": [
        "### Part7:\n",
        "Report accuracy of this model on the test dataset. Also, draw a plot that contains (x_test, y_test) pairs and (x_test, predicted_y) pairs that differ in color."
      ]
    },
    {
      "cell_type": "code",
      "execution_count": 9,
      "metadata": {
        "id": "IrDEbgVDvD85",
        "colab": {
          "base_uri": "https://localhost:8080/"
        },
        "outputId": "14b35a72-0416-49b1-b9e7-5b3054fef270"
      },
      "outputs": [
        {
          "output_type": "stream",
          "name": "stdout",
          "text": [
            "0.10590729682860234\n"
          ]
        }
      ],
      "source": [
        "hyperparameter=0.1\n",
        "predicted_test = [predict(x_train, y_train, query, hyperparameter) for query in x_test]\n",
        "predicted_test= np.reshape( np.array(predicted_test) , (1,100) ) \n",
        "predicted_test= np.reshape( predicted_test , (100,) )\n",
        "error = mean_squared_error(predicted_test,y_test)\n",
        "print(error)\n"
      ]
    },
    {
      "cell_type": "code",
      "execution_count": 10,
      "metadata": {
        "id": "vb5KdKt4vD85",
        "colab": {
          "base_uri": "https://localhost:8080/",
          "height": 284
        },
        "outputId": "97dde54a-0845-4b13-b368-37125f486d1e"
      },
      "outputs": [
        {
          "output_type": "execute_result",
          "data": {
            "text/plain": [
              "<matplotlib.collections.PathCollection at 0x7f281aed0650>"
            ]
          },
          "metadata": {},
          "execution_count": 10
        },
        {
          "output_type": "display_data",
          "data": {
            "text/plain": [
              "<Figure size 432x288 with 1 Axes>"
            ],
            "image/png": "[encoded data removed]"
          },
          "metadata": {
            "needs_background": "light"
          }
        }
      ],
      "source": [
        "plt.scatter(x_test, y_test, c=\"blue\")\n",
        "plt.scatter(x_test, predicted_test, c=\"yellow\")"
      ]
    },
    {
      "cell_type": "markdown",
      "metadata": {
        "id": "vhE0Mo86vD85"
      },
      "source": [
        "### Part8:\n",
        "Is the performance of the new model better than the previous one? `Explain`."
      ]
    },
    {
      "cell_type": "markdown",
      "metadata": {
        "id": "aDAmMyrGvD85"
      },
      "source": [
        "Yes, in this model we approximate the y around each x with the inputs which are nearer to x and these inputs will have higher weight, so the estimated y will be more accuarate and the farther xs which have much more different values will have less effect.It's like we're estimating ys based on a piecewise linear model."
      ]
    },
    {
      "cell_type": "markdown",
      "metadata": {
        "id": "sDvSRbRdvD85"
      },
      "source": [
        "### Part9:\n",
        "Now, we want to consider the `KNN` approach for this problem; Do you think it will perform well?"
      ]
    },
    {
      "cell_type": "markdown",
      "metadata": {
        "id": "kLK-8-mIvD86"
      },
      "source": [
        "KNN will perform well too, because it will estimate ys based on k nearest neighbors of x and their corresponding values, which will decrease the effect of the farther xs that have much more different values and can increase the error of the model. "
      ]
    },
    {
      "cell_type": "markdown",
      "metadata": {
        "id": "1dnlFGYMvD86"
      },
      "source": [
        "### Part10:\n",
        "Implementing the `KNN model`."
      ]
    },
    {
      "cell_type": "code",
      "execution_count": 11,
      "metadata": {
        "id": "O_Br02YsvD86"
      },
      "outputs": [],
      "source": [
        "class KNN:\n",
        "    def __init__(self, number_neighbours, X, Y):\n",
        "        self.k = number_neighbours\n",
        "        self.X = X\n",
        "        self.Y = Y\n",
        "\n",
        "    def distance(self, x1, x2):\n",
        "        distance =  np.absolute(x1-x2)\n",
        "        return distance\n",
        "\n",
        "    def return_nn_ids(self, x):\n",
        "      distancee = list()\n",
        "      j=0\n",
        "      for i in self.X:\n",
        "        dist = self.distance(i, x)\n",
        "        distancee.append([dist, j])\n",
        "        j=j+1\n",
        "      distancee=sorted(distancee,key=lambda l:l[0])\n",
        "      #print(distancee)\n",
        "      indices=list()\n",
        "      for i in range(self.k):\n",
        "        indices.append(distancee[i][1])\n",
        "      \n",
        "      return indices\n",
        "\n",
        "    def predict(self, x):\n",
        "        neareest_indices = self.return_nn_ids(x)\n",
        "        sum=0\n",
        "        for i in neareest_indices:\n",
        "          sum=sum+self.Y[i]\n",
        "\n",
        "        predicted_y = sum/self.k\n",
        "        return predicted_y\n",
        "\n",
        "\n"
      ]
    },
    {
      "cell_type": "code",
      "execution_count": 12,
      "metadata": {
        "id": "uqCxiN2jvD86"
      },
      "outputs": [],
      "source": [
        "def evaluation(k, x_train, y_train, x_test, y_test):\n",
        "    model = KNN(k, x_train, y_train)\n",
        "    predicted_y = [model.predict(x) for x in x_test]\n",
        "    error = mean_squared_error(predicted_y,y_test)\n",
        "    return error, predicted_y\n"
      ]
    },
    {
      "cell_type": "code",
      "execution_count": 20,
      "metadata": {
        "id": "zhO5I1FjvD86",
        "colab": {
          "base_uri": "https://localhost:8080/"
        },
        "outputId": "2c9bec6f-7820-4302-e392-4fe6767583a0"
      },
      "outputs": [
        {
          "output_type": "stream",
          "name": "stdout",
          "text": [
            "MSE error of KNN for test dataset: 0.09729109052277701\n"
          ]
        }
      ],
      "source": [
        "k = 7\n",
        "error_knn, predicted_y = evaluation(k, x_train, y_train, x_test, y_test)\n",
        "print(f\"MSE error of KNN for test dataset: {error_knn}\")"
      ]
    },
    {
      "cell_type": "code",
      "execution_count": 21,
      "metadata": {
        "id": "VIoIgTfHvD86",
        "colab": {
          "base_uri": "https://localhost:8080/",
          "height": 284
        },
        "outputId": "4a62d19a-63cb-4a83-9ed2-808a8a07ba8c"
      },
      "outputs": [
        {
          "output_type": "execute_result",
          "data": {
            "text/plain": [
              "<matplotlib.collections.PathCollection at 0x7f281ad52ed0>"
            ]
          },
          "metadata": {},
          "execution_count": 21
        },
        {
          "output_type": "display_data",
          "data": {
            "text/plain": [
              "<Figure size 432x288 with 1 Axes>"
            ],
            "image/png": "[encoded data removed]"
          },
          "metadata": {
            "needs_background": "light"
          }
        }
      ],
      "source": [
        "plt.scatter(x_test, y_test, c=\"blue\")\n",
        "plt.scatter(x_test, predicted_y, c=\"yellow\")"
      ]
    },
    {
      "cell_type": "markdown",
      "metadata": {
        "id": "gMixRwOVvD87"
      },
      "source": [
        "To find best K for this algorithm we suggest to use cross-validation.\n",
        "<br><br/>\n",
        "Did this model perform well (due to the plot and test accuracy)?"
      ]
    },
    {
      "cell_type": "markdown",
      "metadata": {
        "id": "0msbuDrqvD87"
      },
      "source": [
        "Yes, MSE has been decreased and the accuaracy has been increased, and based on the plot, the model fit the data very well and it's a good estimator.You can change k to see different results, but k=7 performs very well on the dataset."
      ]
    }
  ],
  "metadata": {
    "colab": {
      "collapsed_sections": [],
      "toc_visible": true,
      "provenance": []
    },
    "kernelspec": {
      "display_name": "Python 3.7.4 64-bit",
      "language": "python",
      "name": "python3"
    },
    "language_info": {
      "codemirror_mode": {
        "name": "ipython",
        "version": 3
      },
      "file_extension": ".py",
      "mimetype": "text/x-python",
      "name": "python",
      "nbconvert_exporter": "python",
      "pygments_lexer": "ipython3",
      "version": "3.7.4"
    },
    "toc": {
      "base_numbering": 1,
      "nav_menu": {},
      "number_sections": true,
      "sideBar": true,
      "skip_h1_title": false,
      "title_cell": "Table of Contents",
      "title_sidebar": "Contents",
      "toc_cell": false,
      "toc_position": {},
      "toc_section_display": true,
      "toc_window_display": false
    },
    "varInspector": {
      "cols": {
        "lenName": 16,
        "lenType": 16,
        "lenVar": 40
      },
      "kernels_config": {
        "python": {
          "delete_cmd_postfix": "",
          "delete_cmd_prefix": "del ",
          "library": "var_list.py",
          "varRefreshCmd": "print(var_dic_list())"
        },
        "r": {
          "delete_cmd_postfix": ") ",
          "delete_cmd_prefix": "rm(",
          "library": "var_list.r",
          "varRefreshCmd": "cat(var_dic_list()) "
        }
      },
      "types_to_exclude": [
        "module",
        "function",
        "builtin_function_or_method",
        "instance",
        "_Feature"
      ],
      "window_display": false
    },
    "vscode": {
      "interpreter": {
        "hash": "aee8b7b246df8f9039afb4144a1f6fd8d2ca17a180786b69acc140d282b71a49"
      }
    },
    "gpuClass": "standard"
  },
  "nbformat": 4,
  "nbformat_minor": 0
}